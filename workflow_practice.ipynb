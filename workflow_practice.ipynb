{
 "cells": [
  {
   "cell_type": "markdown",
   "id": "e000d4dd",
   "metadata": {},
   "source": [
    "\n",
    "# Workflow Practice\n",
    "\n",
    "In this notebook, you’ll practice connecting to a SQLite database, creating tables from CSV files using Pandas, and writing SQL queries to explore the data.\n",
    "\n",
    "The dataset comes from the [Bike Store Sample Database](https://www.kaggle.com/datasets/dillonmyrick/bike-store-sample-database) by Dillon Myrick. It models a fictional bike retailer with multiple stores, products, customers, and staff. Each table connects to others using foreign keys such as `customer_id`, `store_id`, and `product_id`.\n",
    "\n",
    "You’ll:\n",
    "- Connect to a local SQLite database\n",
    "- Create tables using `pandas.to_sql()`\n",
    "- Write and test SQL queries using `pd.read_sql()`\n",
    "\n",
    "All of your work will take place directly in this notebook. Each question prompt is written below as a Markdown cell, followed by an empty code cell for you to write your query.\n"
   ]
  },
  {
   "cell_type": "markdown",
   "id": "add7b115",
   "metadata": {},
   "source": [
    "\n",
    "## Step 1: Connect to the Database\n",
    "\n",
    "Run the following cell to connect to (or create) a SQLite database called `bike_store.db`.  \n",
    "If the file doesn’t exist yet, SQLite will automatically create it.\n"
   ]
  },
  {
   "cell_type": "code",
   "execution_count": 1,
   "id": "60c456b9",
   "metadata": {},
   "outputs": [],
   "source": [
    "import sqlite3\n",
    "import pandas as pd"
   ]
  },
  {
   "cell_type": "code",
   "execution_count": 2,
   "id": "037392cc",
   "metadata": {},
   "outputs": [
    {
     "data": {
      "text/plain": [
       "<sqlite3.Connection at 0x1eee42d2b60>"
      ]
     },
     "execution_count": 2,
     "metadata": {},
     "output_type": "execute_result"
    }
   ],
   "source": [
    "connection = sqlite3.connect(\"bike_store.db\")\n",
    "connection"
   ]
  },
  {
   "cell_type": "markdown",
   "id": "4489dd99",
   "metadata": {},
   "source": [
    "\n",
    "## Step 2: Create Tables from CSV Files\n",
    "\n",
    "The `data/` folder contains one CSV file per table.  \n",
    "Use `pandas.read_csv()` and `DataFrame.to_sql()` to load each file into your database.\n",
    "\n",
    "You only need to do this once.  \n",
    "After that, you’ll be able to run queries against your newly created tables.\n"
   ]
  },
  {
   "cell_type": "code",
   "execution_count": null,
   "id": "3b768a75",
   "metadata": {},
   "outputs": [],
   "source": [
    "# Example for one file\n",
    "customers = pd.read_csv(\"data/customers.csv\")\n",
    "customers.to_sql(\"customers\", connection, if_exists=\"replace\", index=False)"
   ]
  },
  {
   "cell_type": "code",
   "execution_count": null,
   "id": "0f3573be",
   "metadata": {},
   "outputs": [],
   "source": [
    "# Repeat for all other files in the data folder, or use a loop.\n"
   ]
  },
  {
   "cell_type": "markdown",
   "id": "ac539a94",
   "metadata": {},
   "source": [
    "### Verify Your Tables\n",
    "\n",
    "Run a query to make sure your tables were created successfully."
   ]
  },
  {
   "cell_type": "code",
   "execution_count": null,
   "id": "e568988b",
   "metadata": {},
   "outputs": [],
   "source": [
    "\n",
    "pd.read_sql(\"SELECT name FROM sqlite_master WHERE type='table';\", connection)\n"
   ]
  },
  {
   "cell_type": "markdown",
   "id": "75b6f1c1",
   "metadata": {},
   "source": [
    "## Step 3: Test a Simple Query\n",
    "\n",
    "Before starting the exercises, confirm your connection and tables are working by previewing the first few rows of the `customers` table."
   ]
  },
  {
   "cell_type": "code",
   "execution_count": null,
   "id": "ea060534",
   "metadata": {},
   "outputs": [],
   "source": [
    "\n",
    "pd.read_sql(\"SELECT * FROM customers LIMIT 5;\", connection)\n"
   ]
  },
  {
   "cell_type": "markdown",
   "id": "cc482b0e",
   "metadata": {},
   "source": [
    "### Q1. List all customers and their cities.\n",
    "\n",
    "Return the first name, last name, and city of each customer. Sort alphabetically by last name and then by first name."
   ]
  },
  {
   "cell_type": "code",
   "execution_count": null,
   "id": "a1a8715e",
   "metadata": {},
   "outputs": [],
   "source": [
    "# Your query here"
   ]
  },
  {
   "cell_type": "markdown",
   "id": "d41b3f09",
   "metadata": {},
   "source": [
    "### Q2. Show all products and their prices.\n",
    "\n",
    "Display each product name along with its list price. Sort by price in descending order."
   ]
  },
  {
   "cell_type": "code",
   "execution_count": null,
   "id": "3917207d",
   "metadata": {},
   "outputs": [],
   "source": [
    "# Your query here"
   ]
  },
  {
   "cell_type": "markdown",
   "id": "82c12eab",
   "metadata": {},
   "source": [
    "### Q3. Find all customers from California.\n",
    "\n",
    "Return first name, last name, city, and state for all customers whose state is 'CA'. Sort alphabetically by last name."
   ]
  },
  {
   "cell_type": "code",
   "execution_count": null,
   "id": "4d14e73b",
   "metadata": {},
   "outputs": [],
   "source": [
    "# Your query here"
   ]
  },
  {
   "cell_type": "markdown",
   "id": "a17d84bc",
   "metadata": {},
   "source": [
    "### Q4. Count how many products are in each category.\n",
    "\n",
    "Return the category name and the number of products in that category. Sort from the highest count to the lowest."
   ]
  },
  {
   "cell_type": "code",
   "execution_count": null,
   "id": "b56ebade",
   "metadata": {},
   "outputs": [],
   "source": [
    "# Your query here"
   ]
  },
  {
   "cell_type": "markdown",
   "id": "31c51ad9",
   "metadata": {},
   "source": [
    "### Q5. Find all orders placed in 2018.\n",
    "\n",
    "List the order ID, order date, and customer ID for orders made during the year 2018. Sort by order date."
   ]
  },
  {
   "cell_type": "code",
   "execution_count": null,
   "id": "85b52651",
   "metadata": {},
   "outputs": [],
   "source": [
    "# Your query here"
   ]
  },
  {
   "cell_type": "markdown",
   "id": "33773e61",
   "metadata": {},
   "source": [
    "### Q6. Show each order with its total number of items.\n",
    "\n",
    "Join the `orders` and `order_items` tables. Group by order ID and return the number of items per order."
   ]
  },
  {
   "cell_type": "code",
   "execution_count": null,
   "id": "4598af04",
   "metadata": {},
   "outputs": [],
   "source": [
    "# Your query here"
   ]
  },
  {
   "cell_type": "markdown",
   "id": "cfc4e1e3",
   "metadata": {},
   "source": [
    "### Q7. List total revenue per store.\n",
    "\n",
    "Revenue = quantity * list_price * (1 - discount). Join `orders`, `order_items`, and `stores`, group by store name, and return total revenue."
   ]
  },
  {
   "cell_type": "code",
   "execution_count": null,
   "id": "ea2b6bcf",
   "metadata": {},
   "outputs": [],
   "source": [
    "# Your query here"
   ]
  },
  {
   "cell_type": "markdown",
   "id": "eede1c10",
   "metadata": {},
   "source": [
    "### Q8. Find the top 5 customers who spent the most overall.\n",
    "\n",
    "Join `customers`, `orders`, and `order_items`. Sum the total spending per customer and return the top five spenders."
   ]
  },
  {
   "cell_type": "code",
   "execution_count": null,
   "id": "66dffb1d",
   "metadata": {},
   "outputs": [],
   "source": [
    "# Your query here"
   ]
  },
  {
   "cell_type": "markdown",
   "id": "d827ad03",
   "metadata": {},
   "source": [
    "### Q9. Show the best-selling product in each category.\n",
    "\n",
    "Join `products`, `order_items`, and `categories`. For each category, identify the product with the highest total quantity sold."
   ]
  },
  {
   "cell_type": "code",
   "execution_count": null,
   "id": "55825b3b",
   "metadata": {},
   "outputs": [],
   "source": [
    "# Your query here"
   ]
  },
  {
   "cell_type": "markdown",
   "id": "4eed7dae",
   "metadata": {},
   "source": [
    "### Q10. Identify the employees (staff) who processed the most orders.\n",
    "\n",
    "Join `staffs` and `orders`. Count the number of orders handled by each staff member and return the results sorted by highest total."
   ]
  },
  {
   "cell_type": "code",
   "execution_count": null,
   "id": "632851b0",
   "metadata": {},
   "outputs": [],
   "source": [
    "# Your query here"
   ]
  }
 ],
 "metadata": {
  "kernelspec": {
   "display_name": "Python 3",
   "language": "python",
   "name": "python3"
  },
  "language_info": {
   "codemirror_mode": {
    "name": "ipython",
    "version": 3
   },
   "file_extension": ".py",
   "mimetype": "text/x-python",
   "name": "python",
   "nbconvert_exporter": "python",
   "pygments_lexer": "ipython3",
   "version": "3.13.5"
  }
 },
 "nbformat": 4,
 "nbformat_minor": 5
}
